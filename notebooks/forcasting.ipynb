{
 "cells": [
  {
   "cell_type": "code",
   "execution_count": 1,
   "metadata": {},
   "outputs": [],
   "source": [
    "import os, sys\n",
    "\n",
    "notebook_dir = os.getcwd()\n",
    "\n",
    "#add path\n",
    "sys.path.append(os.path.abspath(os.path.join(notebook_dir, '..')))"
   ]
  },
  {
   "cell_type": "code",
   "execution_count": 3,
   "metadata": {},
   "outputs": [],
   "source": [
    "from scripts.fetchPrepr_close_column import *\n",
    "from scripts.sarima_model import *\n",
    "from scripts.lstm_model import *\n",
    "from scripts.forecasting import *"
   ]
  },
  {
   "cell_type": "code",
   "execution_count": 4,
   "metadata": {},
   "outputs": [
    {
     "name": "stdout",
     "output_type": "stream",
     "text": [
      "YF.download() has changed argument auto_adjust default to True\n"
     ]
    },
    {
     "name": "stderr",
     "output_type": "stream",
     "text": [
      "[*********************100%***********************]  1 of 1 completed\n",
      "\n",
      "1 Failed download:\n",
      "['TSLA']: ConnectionError(MaxRetryError('HTTPSConnectionPool(host=\\'query2.finance.yahoo.com\\', port=443): Max retries exceeded with url: /v8/finance/chart/TSLA?period1=1420088400&period2=1738299600&interval=1d&includePrePost=False&events=div%2Csplits%2CcapitalGains&crumb=Gw5JcwV7Xna (Caused by NameResolutionError(\"<urllib3.connection.HTTPSConnection object at 0x000002558B961B50>: Failed to resolve \\'query2.finance.yahoo.com\\' ([Errno 11002] getaddrinfo failed)\"))'))\n"
     ]
    }
   ],
   "source": [
    "# Fetch and preprocess data\n",
    "tsla_data = fetch_data('TSLA', '2015-01-01', '2025-01-31')\n",
    "train_data, test_data = preprocess_data(tsla_data)"
   ]
  },
  {
   "cell_type": "code",
   "execution_count": null,
   "metadata": {},
   "outputs": [],
   "source": [
    "# Load the trained model (SARIMA or LSTM)\n",
    "model_type = 'sarima'  # Change to 'lstm' if using LSTM\n",
    "if model_type == 'sarima':\n",
    "    model = load_sarima_model('sarima_model.pkl')\n",
    "    forecast_values, confidence_intervals = sarima_forecast(model, steps=12)\n",
    "elif model_type == 'lstm':\n",
    "    model = load_lstm_model('lstm_model.keras')\n",
    "    lookback = 60\n",
    "    last_sequence = train_data[-lookback:].values.reshape(-1, 1)\n",
    "    forecast_values = lstm_forecast(model, last_sequence, steps=12, lookback=lookback)\n",
    "    confidence_intervals = None  # LSTM does not provide confidence intervals\n",
    "\n"
   ]
  },
  {
   "cell_type": "code",
   "execution_count": null,
   "metadata": {},
   "outputs": [],
   "source": [
    "# Visualize the forecast\n",
    "plot_forecast(test_data['Close'], forecast_values, confidence_intervals, title=\"Tesla Stock Price Forecast (Next 12 Months)\")"
   ]
  }
 ],
 "metadata": {
  "kernelspec": {
   "display_name": ".myvenv11",
   "language": "python",
   "name": "python3"
  },
  "language_info": {
   "codemirror_mode": {
    "name": "ipython",
    "version": 3
   },
   "file_extension": ".py",
   "mimetype": "text/x-python",
   "name": "python",
   "nbconvert_exporter": "python",
   "pygments_lexer": "ipython3",
   "version": "3.9.13"
  }
 },
 "nbformat": 4,
 "nbformat_minor": 2
}
