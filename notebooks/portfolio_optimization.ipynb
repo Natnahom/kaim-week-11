{
 "cells": [
  {
   "cell_type": "markdown",
   "metadata": {},
   "source": [
    "# Optimize Portfolio Based on Forecast\n",
    "We will use the forecasted data from Task 3 to optimize a sample investment portfolio consisting of three assets: \n",
    "- Tesla (TSLA)\n",
    "- Vanguard Total Bond Market ETF (BND) \n",
    "- S&P 500 ETF (SPY). \n",
    "\n",
    "The goal is to adjust the portfolio weights to maximize returns while minimizing risks based on the predicted market trends."
   ]
  },
  {
   "cell_type": "code",
   "execution_count": 1,
   "metadata": {},
   "outputs": [],
   "source": [
    "import os, sys\n",
    "\n",
    "notebook_dir = os.getcwd()\n",
    "\n",
    "#add path\n",
    "sys.path.append(os.path.abspath(os.path.join(notebook_dir, '..')))"
   ]
  },
  {
   "cell_type": "code",
   "execution_count": 7,
   "metadata": {},
   "outputs": [],
   "source": [
    "from scripts.fetchPrepr_close_column import *\n",
    "from scripts.portfolio_metrics import *\n",
    "from scripts.optimize_analyze_portfolio import *\n",
    "from scripts.visualize_portfolio import *\n",
    "from scripts.lstm_model import *\n",
    "from scripts.forecasting import *\n",
    "from scripts.clean_data import *\n",
    "from scripts.compute_and_forecast import *"
   ]
  },
  {
   "cell_type": "code",
   "execution_count": 9,
   "metadata": {},
   "outputs": [
    {
     "name": "stderr",
     "output_type": "stream",
     "text": [
      "[*********************100%***********************]  3 of 3 completed\n"
     ]
    }
   ],
   "source": [
    "# Fetch historical data\n",
    "tickers = ['TSLA', 'BND', 'SPY']\n",
    "start_date = '2015-01-01'\n",
    "end_date = '2025-01-31'\n",
    "data = fetch_data(tickers, start_date, end_date)"
   ]
  },
  {
   "cell_type": "code",
   "execution_count": 15,
   "metadata": {},
   "outputs": [
    {
     "data": {
      "text/html": [
       "<div>\n",
       "<style scoped>\n",
       "    .dataframe tbody tr th:only-of-type {\n",
       "        vertical-align: middle;\n",
       "    }\n",
       "\n",
       "    .dataframe tbody tr th {\n",
       "        vertical-align: top;\n",
       "    }\n",
       "\n",
       "    .dataframe thead th {\n",
       "        text-align: right;\n",
       "    }\n",
       "</style>\n",
       "<table border=\"1\" class=\"dataframe\">\n",
       "  <thead>\n",
       "    <tr style=\"text-align: right;\">\n",
       "      <th>Ticker</th>\n",
       "      <th>BND</th>\n",
       "      <th>SPY</th>\n",
       "      <th>TSLA</th>\n",
       "    </tr>\n",
       "    <tr>\n",
       "      <th>Date</th>\n",
       "      <th></th>\n",
       "      <th></th>\n",
       "      <th></th>\n",
       "    </tr>\n",
       "  </thead>\n",
       "  <tbody>\n",
       "    <tr>\n",
       "      <th>2015-01-02</th>\n",
       "      <td>62.387089</td>\n",
       "      <td>172.592865</td>\n",
       "      <td>14.620667</td>\n",
       "    </tr>\n",
       "    <tr>\n",
       "      <th>2015-01-05</th>\n",
       "      <td>62.568237</td>\n",
       "      <td>169.475922</td>\n",
       "      <td>14.006000</td>\n",
       "    </tr>\n",
       "    <tr>\n",
       "      <th>2015-01-06</th>\n",
       "      <td>62.749397</td>\n",
       "      <td>167.879639</td>\n",
       "      <td>14.085333</td>\n",
       "    </tr>\n",
       "    <tr>\n",
       "      <th>2015-01-07</th>\n",
       "      <td>62.787163</td>\n",
       "      <td>169.971588</td>\n",
       "      <td>14.063333</td>\n",
       "    </tr>\n",
       "    <tr>\n",
       "      <th>2015-01-08</th>\n",
       "      <td>62.689007</td>\n",
       "      <td>172.987701</td>\n",
       "      <td>14.041333</td>\n",
       "    </tr>\n",
       "    <tr>\n",
       "      <th>...</th>\n",
       "      <td>...</td>\n",
       "      <td>...</td>\n",
       "      <td>...</td>\n",
       "    </tr>\n",
       "    <tr>\n",
       "      <th>2025-01-24</th>\n",
       "      <td>71.592484</td>\n",
       "      <td>607.969971</td>\n",
       "      <td>406.579987</td>\n",
       "    </tr>\n",
       "    <tr>\n",
       "      <th>2025-01-27</th>\n",
       "      <td>71.970116</td>\n",
       "      <td>599.369995</td>\n",
       "      <td>397.149994</td>\n",
       "    </tr>\n",
       "    <tr>\n",
       "      <th>2025-01-28</th>\n",
       "      <td>71.930367</td>\n",
       "      <td>604.520020</td>\n",
       "      <td>398.089996</td>\n",
       "    </tr>\n",
       "    <tr>\n",
       "      <th>2025-01-29</th>\n",
       "      <td>71.890610</td>\n",
       "      <td>601.809998</td>\n",
       "      <td>389.100006</td>\n",
       "    </tr>\n",
       "    <tr>\n",
       "      <th>2025-01-30</th>\n",
       "      <td>71.989998</td>\n",
       "      <td>605.039978</td>\n",
       "      <td>400.279999</td>\n",
       "    </tr>\n",
       "  </tbody>\n",
       "</table>\n",
       "<p>2535 rows × 3 columns</p>\n",
       "</div>"
      ],
      "text/plain": [
       "Ticker            BND         SPY        TSLA\n",
       "Date                                         \n",
       "2015-01-02  62.387089  172.592865   14.620667\n",
       "2015-01-05  62.568237  169.475922   14.006000\n",
       "2015-01-06  62.749397  167.879639   14.085333\n",
       "2015-01-07  62.787163  169.971588   14.063333\n",
       "2015-01-08  62.689007  172.987701   14.041333\n",
       "...               ...         ...         ...\n",
       "2025-01-24  71.592484  607.969971  406.579987\n",
       "2025-01-27  71.970116  599.369995  397.149994\n",
       "2025-01-28  71.930367  604.520020  398.089996\n",
       "2025-01-29  71.890610  601.809998  389.100006\n",
       "2025-01-30  71.989998  605.039978  400.279999\n",
       "\n",
       "[2535 rows x 3 columns]"
      ]
     },
     "execution_count": 15,
     "metadata": {},
     "output_type": "execute_result"
    }
   ],
   "source": [
    "data['Close']"
   ]
  },
  {
   "cell_type": "code",
   "execution_count": 5,
   "metadata": {},
   "outputs": [
    {
     "name": "stderr",
     "output_type": "stream",
     "text": [
      "[*********************100%***********************]  1 of 1 completed\n"
     ]
    },
    {
     "name": "stdout",
     "output_type": "stream",
     "text": [
      "LSTM model loaded from lstm_model.keras\n"
     ]
    }
   ],
   "source": [
    "tsla_data = fetch_data('TSLA', '2015-01-01', '2025-01-31')\n",
    "train_data, test_data = preprocess_data(tsla_data)\n",
    "\n",
    "# Load the trained LSTM model\n",
    "lstm_model = load_lstm_model('lstm_model.keras')\n",
    "\n",
    "# Load the scaler\n",
    "scaler = joblib.load('scaler.pkl')\n",
    "\n",
    "# Prepare the last sequence for forecasting\n",
    "lookback = 60\n",
    "last_sequence = train_data[-lookback:].values.reshape(-1, 1)\n",
    "\n",
    "# Generate forecasts\n",
    "forecast_valuesL = lstm_forecast(lstm_model, last_sequence, steps=12, lookback=lookback, scaler_filename='scaler.pkl')\n",
    "\n",
    "# Use forecast_valuesL as the TSLA forecast\n",
    "tsla_forecast = forecast_valuesL"
   ]
  },
  {
   "cell_type": "code",
   "execution_count": 16,
   "metadata": {},
   "outputs": [],
   "source": [
    "# Create combined DataFrame\n",
    "combined_data = create_combined_dataframe(tsla_forecast, data['Close']['BND'], data['Close']['SPY'])"
   ]
  },
  {
   "cell_type": "code",
   "execution_count": 17,
   "metadata": {},
   "outputs": [],
   "source": [
    "# Compute annual returns and covariance matrix\n",
    "annual_returns, covariance_matrix = compute_annual_returns_and_covariance(combined_data)"
   ]
  }
 ],
 "metadata": {
  "kernelspec": {
   "display_name": ".myvenv11",
   "language": "python",
   "name": "python3"
  },
  "language_info": {
   "codemirror_mode": {
    "name": "ipython",
    "version": 3
   },
   "file_extension": ".py",
   "mimetype": "text/x-python",
   "name": "python",
   "nbconvert_exporter": "python",
   "pygments_lexer": "ipython3",
   "version": "3.9.13"
  }
 },
 "nbformat": 4,
 "nbformat_minor": 2
}
