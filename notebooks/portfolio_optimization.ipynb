{
 "cells": [
  {
   "cell_type": "markdown",
   "metadata": {},
   "source": [
    "# Optimize Portfolio Based on Forecast\n",
    "We will use the forecasted data from Task 3 to optimize a sample investment portfolio consisting of three assets: \n",
    "- Tesla (TSLA)\n",
    "- Vanguard Total Bond Market ETF (BND) \n",
    "- S&P 500 ETF (SPY). \n",
    "\n",
    "The goal is to adjust the portfolio weights to maximize returns while minimizing risks based on the predicted market trends."
   ]
  }
 ],
 "metadata": {
  "language_info": {
   "name": "python"
  }
 },
 "nbformat": 4,
 "nbformat_minor": 2
}
