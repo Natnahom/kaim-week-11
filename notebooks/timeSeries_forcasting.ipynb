{
 "cells": [
  {
   "cell_type": "markdown",
   "metadata": {},
   "source": [
    "# Time Series Forecasting Models\n",
    "- In this task, we build a time series forecasting model to predict Tesla's (TSLA) future stock prices. \n",
    "- We explore and compare different modeling techniques, including ARIMA, SARIMA, and LSTM. \n",
    "- The goal is to develop a robust model that can accurately forecast stock prices and provide actionable insights for portfolio management."
   ]
  },
  {
   "cell_type": "code",
   "execution_count": 1,
   "metadata": {},
   "outputs": [],
   "source": [
    "import os, sys\n",
    "\n",
    "notebook_dir = os.getcwd()\n",
    "\n",
    "#add path\n",
    "sys.path.append(os.path.abspath(os.path.join(notebook_dir, '..')))"
   ]
  },
  {
   "cell_type": "code",
   "execution_count": 2,
   "metadata": {},
   "outputs": [],
   "source": [
    "from scripts.fetchPrepr_close_column import *\n",
    "from scripts.sarima_model import *\n",
    "from scripts.lstm_model import *"
   ]
  },
  {
   "cell_type": "code",
   "execution_count": 3,
   "metadata": {},
   "outputs": [
    {
     "name": "stdout",
     "output_type": "stream",
     "text": [
      "YF.download() has changed argument auto_adjust default to True\n"
     ]
    },
    {
     "name": "stderr",
     "output_type": "stream",
     "text": [
      "[*********************100%***********************]  1 of 1 completed\n"
     ]
    }
   ],
   "source": [
    "# import pandas as pd\n",
    "# Fetch and preprocess data\n",
    "tsla_data = fetch_data('TSLA', '2015-01-01', '2025-01-31')\n",
    "train_data, test_data = preprocess_data(tsla_data)\n",
    "\n",
    "# index = pd.date_range(start='2023-01-24', periods=len(data['Close']), freq='D')\n",
    "# test_data = pd.DataFrame(test_data, index=index)\n",
    "\n",
    "# Extract the 'Close' column as a Series\n",
    "# test_data_series = test_data['Close']"
   ]
  },
  {
   "cell_type": "code",
   "execution_count": 4,
   "metadata": {},
   "outputs": [
    {
     "name": "stdout",
     "output_type": "stream",
     "text": [
      "Ticker            TSLA\n",
      "Date                  \n",
      "2015-01-02   14.620667\n",
      "2015-01-05   14.006000\n",
      "2015-01-06   14.085333\n",
      "2015-01-07   14.063333\n",
      "2015-01-08   14.041333\n",
      "...                ...\n",
      "2023-01-17  131.490005\n",
      "2023-01-18  128.779999\n",
      "2023-01-19  127.169998\n",
      "2023-01-20  133.419998\n",
      "2023-01-23  143.750000\n",
      "\n",
      "[2028 rows x 1 columns]\n",
      "Ticker            TSLA\n",
      "Date                  \n",
      "2023-01-24  143.889999\n",
      "2023-01-25  144.429993\n",
      "2023-01-26  160.270004\n",
      "2023-01-27  177.899994\n",
      "2023-01-30  166.660004\n",
      "...                ...\n",
      "2025-01-24  406.579987\n",
      "2025-01-27  397.149994\n",
      "2025-01-28  398.089996\n",
      "2025-01-29  389.100006\n",
      "2025-01-30  400.279999\n",
      "\n",
      "[507 rows x 1 columns]\n"
     ]
    }
   ],
   "source": [
    "print(train_data)\n",
    "print(test_data)\n",
    "# test_data.shape"
   ]
  },
  {
   "cell_type": "code",
   "execution_count": 6,
   "metadata": {},
   "outputs": [
    {
     "name": "stdout",
     "output_type": "stream",
     "text": [
      "NaN values in test_data: Ticker\n",
      "TSLA    0\n",
      "dtype: int64\n",
      "NaN values in test_data: Ticker\n",
      "TSLA    0\n",
      "dtype: int64\n"
     ]
    }
   ],
   "source": [
    "print(f\"NaN values in test_data: {train_data.isnull().sum()}\")\n",
    "print(f\"NaN values in test_data: {test_data.isnull().sum()}\")\n",
    "# print(f\"NaN values in predictions: {pd.isnull(predictions).sum()}\")"
   ]
  },
  {
   "cell_type": "code",
   "execution_count": 4,
   "metadata": {},
   "outputs": [
    {
     "name": "stderr",
     "output_type": "stream",
     "text": [
      "c:\\Users\\pc\\Desktop\\10_Academy\\Week-11\\kaim-week-11\\.myvenv11\\lib\\site-packages\\statsmodels\\tsa\\base\\tsa_model.py:473: ValueWarning: A date index has been provided, but it has no associated frequency information and so will be ignored when e.g. forecasting.\n",
      "  self._init_dates(dates, freq)\n",
      "c:\\Users\\pc\\Desktop\\10_Academy\\Week-11\\kaim-week-11\\.myvenv11\\lib\\site-packages\\statsmodels\\tsa\\base\\tsa_model.py:473: ValueWarning: A date index has been provided, but it has no associated frequency information and so will be ignored when e.g. forecasting.\n",
      "  self._init_dates(dates, freq)\n"
     ]
    },
    {
     "name": "stdout",
     "output_type": "stream",
     "text": [
      "Training SARIMA model...\n"
     ]
    }
   ],
   "source": [
    "# SARIMA Model\n",
    "print(\"Training SARIMA model...\")\n",
    "sarima_model = fit_sarima(train_data)"
   ]
  },
  {
   "cell_type": "code",
   "execution_count": 5,
   "metadata": {},
   "outputs": [
    {
     "name": "stdout",
     "output_type": "stream",
     "text": [
      "test_data head:\n",
      "Date\n",
      "2023-01-24    143.889999\n",
      "2023-01-25    144.429993\n",
      "2023-01-26    160.270004\n",
      "2023-01-27    177.899994\n",
      "2023-01-30    166.660004\n",
      "Name: TSLA, dtype: float64\n",
      "predictions head:\n",
      "2028    142.335427\n",
      "2029    142.361755\n",
      "2030    140.949504\n",
      "2031    140.900303\n",
      "2032    139.419443\n",
      "Name: predicted_mean, dtype: float64\n",
      "SARIMA Metrics - MAE: 91.82462746724023, RMSE: 112.59495522395002, MAPE: nan\n"
     ]
    },
    {
     "name": "stderr",
     "output_type": "stream",
     "text": [
      "c:\\Users\\pc\\Desktop\\10_Academy\\Week-11\\kaim-week-11\\.myvenv11\\lib\\site-packages\\statsmodels\\tsa\\base\\tsa_model.py:837: ValueWarning: No supported index is available. Prediction results will be given with an integer index beginning at `start`.\n",
      "  return get_prediction_index(\n",
      "c:\\Users\\pc\\Desktop\\10_Academy\\Week-11\\kaim-week-11\\.myvenv11\\lib\\site-packages\\statsmodels\\tsa\\base\\tsa_model.py:837: FutureWarning: No supported index is available. In the next version, calling this method in a model without a supported index will result in an exception.\n",
      "  return get_prediction_index(\n",
      "c:\\Users\\pc\\Desktop\\10_Academy\\Week-11\\kaim-week-11\\scripts\\sarima_model.py:68: RuntimeWarning: '<' not supported between instances of 'int' and 'Timestamp', sort order is undefined for incomparable objects.\n",
      "  mape = np.mean(np.abs((test_data - predictions) / test_data)) * 100\n"
     ]
    }
   ],
   "source": [
    "# SARIMA Model\n",
    "sarima_predictions, sarima_mae, sarima_rmse, sarima_mape = evaluate_sarima(sarima_model, test_data['TSLA'])\n",
    "print(f\"SARIMA Metrics - MAE: {sarima_mae}, RMSE: {sarima_rmse}, MAPE: {sarima_mape}\")"
   ]
  }
 ],
 "metadata": {
  "kernelspec": {
   "display_name": ".myvenv11",
   "language": "python",
   "name": "python3"
  },
  "language_info": {
   "codemirror_mode": {
    "name": "ipython",
    "version": 3
   },
   "file_extension": ".py",
   "mimetype": "text/x-python",
   "name": "python",
   "nbconvert_exporter": "python",
   "pygments_lexer": "ipython3",
   "version": "3.9.13"
  }
 },
 "nbformat": 4,
 "nbformat_minor": 2
}
